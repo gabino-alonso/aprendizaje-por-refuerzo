{
  "nbformat": 4,
  "nbformat_minor": 0,
  "metadata": {
    "colab": {
      "name": "Capitulo01",
      "provenance": []
    },
    "kernelspec": {
      "name": "python3",
      "display_name": "Python 3"
    }
  },
  "cells": [
    {
      "cell_type": "code",
      "metadata": {
        "colab": {
          "base_uri": "https://localhost:8080/"
        },
        "id": "PHLVEJnl63w3",
        "outputId": "e8647ef9-b3fa-43b7-bd57-46fc8ca48356"
      },
      "source": [
        "import gym\n",
        "env = gym.make(\"FrozenLake-v0\", is_slippery=False) \n",
        "env.reset()\n",
        "for t in range(10):\n",
        "   env.render()\n",
        "   print(\"\\n  Timestep {}\".format(t))\n",
        "   a = env.action_space.sample()\n",
        "   state, r, done, _ = env.step(a)\n",
        "   if done:\n",
        "        env.render()\n",
        "        print(\"\\nEpisode terminated in state\", state)\n",
        "        break\n"
      ],
      "execution_count": 8,
      "outputs": [
        {
          "output_type": "stream",
          "text": [
            "\n",
            "\u001b[41mS\u001b[0mFFF\n",
            "FHFH\n",
            "FFFH\n",
            "HFFG\n",
            "\n",
            "  Timestep 0\n",
            "  (Down)\n",
            "SFFF\n",
            "\u001b[41mF\u001b[0mHFH\n",
            "FFFH\n",
            "HFFG\n",
            "\n",
            "  Timestep 1\n",
            "  (Down)\n",
            "SFFF\n",
            "FHFH\n",
            "\u001b[41mF\u001b[0mFFH\n",
            "HFFG\n",
            "\n",
            "  Timestep 2\n",
            "  (Right)\n",
            "SFFF\n",
            "FHFH\n",
            "F\u001b[41mF\u001b[0mFH\n",
            "HFFG\n",
            "\n",
            "  Timestep 3\n",
            "  (Up)\n",
            "SFFF\n",
            "F\u001b[41mH\u001b[0mFH\n",
            "FFFH\n",
            "HFFG\n",
            "\n",
            "Episode terminated in state 5\n"
          ],
          "name": "stdout"
        }
      ]
    }
  ]
}