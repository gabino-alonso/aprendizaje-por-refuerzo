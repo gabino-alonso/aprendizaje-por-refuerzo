{
  "nbformat": 4,
  "nbformat_minor": 0,
  "metadata": {
    "colab": {
      "name": "Capitulo01",
      "provenance": []
    },
    "kernelspec": {
      "name": "python3",
      "display_name": "Python 3"
    }
  },
  "cells": [
    {
      "cell_type": "markdown",
      "metadata": {
        "id": "zgqCFBANkOKI"
      },
      "source": [
        "# Capítulo 01"
      ]
    },
    {
      "cell_type": "code",
      "metadata": {
        "colab": {
          "base_uri": "https://localhost:8080/"
        },
        "id": "PHLVEJnl63w3",
        "outputId": "37a15d78-2921-4fe2-8055-d76db80d1751"
      },
      "source": [
        "import gym\n",
        "env = gym.make(\"FrozenLake-v0\", is_slippery=False) \n",
        "env.reset()\n",
        "env.render()\n",
        "is_done = False\n",
        "t = 0\n",
        "\n",
        "while not is_done:\n",
        "   action = env.action_space.sample()\n",
        "   state, reward, is_done, _ = env.step(action)\n",
        "   env.render()\n",
        "   t +=1\n",
        "        \n",
        "print(\"\\nlast state =\", state)\n",
        "print(\"reward =    \", reward)\n",
        "print(\"time steps =\", t)"
      ],
      "execution_count": null,
      "outputs": [
        {
          "output_type": "stream",
          "text": [
            "\n",
            "\u001b[41mS\u001b[0mFFF\n",
            "FHFH\n",
            "FFFH\n",
            "HFFG\n",
            "  (Down)\n",
            "SFFF\n",
            "\u001b[41mF\u001b[0mHFH\n",
            "FFFH\n",
            "HFFG\n",
            "  (Up)\n",
            "\u001b[41mS\u001b[0mFFF\n",
            "FHFH\n",
            "FFFH\n",
            "HFFG\n",
            "  (Up)\n",
            "\u001b[41mS\u001b[0mFFF\n",
            "FHFH\n",
            "FFFH\n",
            "HFFG\n",
            "  (Right)\n",
            "S\u001b[41mF\u001b[0mFF\n",
            "FHFH\n",
            "FFFH\n",
            "HFFG\n",
            "  (Down)\n",
            "SFFF\n",
            "F\u001b[41mH\u001b[0mFH\n",
            "FFFH\n",
            "HFFG\n",
            "\n",
            "last state = 5\n",
            "reward =     0.0\n",
            "time steps = 5\n"
          ],
          "name": "stdout"
        }
      ]
    },
    {
      "cell_type": "markdown",
      "metadata": {
        "id": "FxgbSgOFvg6i"
      },
      "source": [
        "Agent"
      ]
    },
    {
      "cell_type": "code",
      "metadata": {
        "id": "VkXfkRugk6Ss"
      },
      "source": [
        "import gym\n",
        "\n",
        "class Agent:\n",
        "    def __init__(self):\n",
        "        self.internalenv = gym.make(\"FrozenLake-v0\", is_slippery=False) \n",
        "\n",
        "    def select_action(self):\n",
        "        return self.internalenv.action_space.sample()\n"
      ],
      "execution_count": null,
      "outputs": []
    },
    {
      "cell_type": "markdown",
      "metadata": {
        "id": "G_BJdz7Kvigp"
      },
      "source": [
        "Test agent\n"
      ]
    },
    {
      "cell_type": "code",
      "metadata": {
        "colab": {
          "base_uri": "https://localhost:8080/"
        },
        "id": "AViV9Do4vnkm",
        "outputId": "5c0a7217-2dfb-4b3e-c660-fb024c461581"
      },
      "source": [
        "env = gym.make(\"FrozenLake-v0\", is_slippery=False) \n",
        "env.reset()\n",
        "env.render()\n",
        "is_done = False\n",
        "t = 0\n",
        "\n",
        "agent=Agent()\n",
        "while not is_done:\n",
        "   action = agent.select_action()\n",
        "   state, reward, is_done, _ = env.step(action)\n",
        "   env.render()\n",
        "   t +=1\n",
        "        \n",
        "print(\"\\nlast state =\", state)\n",
        "print(\"reward =    \", reward)\n",
        "print(\"time steps =\", t)"
      ],
      "execution_count": null,
      "outputs": [
        {
          "output_type": "stream",
          "text": [
            "\n",
            "\u001b[41mS\u001b[0mFFF\n",
            "FHFH\n",
            "FFFH\n",
            "HFFG\n",
            "  (Up)\n",
            "\u001b[41mS\u001b[0mFFF\n",
            "FHFH\n",
            "FFFH\n",
            "HFFG\n",
            "  (Down)\n",
            "SFFF\n",
            "\u001b[41mF\u001b[0mHFH\n",
            "FFFH\n",
            "HFFG\n",
            "  (Left)\n",
            "SFFF\n",
            "\u001b[41mF\u001b[0mHFH\n",
            "FFFH\n",
            "HFFG\n",
            "  (Left)\n",
            "SFFF\n",
            "\u001b[41mF\u001b[0mHFH\n",
            "FFFH\n",
            "HFFG\n",
            "  (Right)\n",
            "SFFF\n",
            "F\u001b[41mH\u001b[0mFH\n",
            "FFFH\n",
            "HFFG\n",
            "\n",
            "last state = 5\n",
            "reward =     0.0\n",
            "time steps = 5\n"
          ],
          "name": "stdout"
        }
      ]
    },
    {
      "cell_type": "code",
      "metadata": {
        "colab": {
          "base_uri": "https://localhost:8080/"
        },
        "id": "d0_9s_PeoZTL",
        "outputId": "ad7296ee-2150-42fd-f1dd-4b9a3a0ff8be"
      },
      "source": [
        "def test(agent, test_env):\n",
        "    env.reset()\n",
        "    is_done = False\n",
        "    t = 0\n",
        "\n",
        "    while not is_done:\n",
        "       action = agent.select_action()\n",
        "       state, reward, is_done, _ = env.step(action)\n",
        "       t +=1\n",
        "    return (state, reward, is_done)    \n",
        "\n",
        "agent = Agent()\n",
        "env = gym.make('FrozenLake-v0', is_slippery=False)\n",
        "\n",
        "solved=0\n",
        "for episode in range (1000):\n",
        "    state, reward, is_done = test(agent, env)\n",
        "    if (state == 15):\n",
        "       solved +=1\n",
        "\n",
        "print (\"\\n Solved \", solved, \"times (\", solved/10,\"%)\")  "
      ],
      "execution_count": null,
      "outputs": [
        {
          "output_type": "stream",
          "text": [
            "\n",
            " Solved  18 times ( 1.8 %)\n"
          ],
          "name": "stdout"
        }
      ]
    }
  ]
}