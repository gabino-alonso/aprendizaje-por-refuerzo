{
  "nbformat": 4,
  "nbformat_minor": 0,
  "metadata": {
    "colab": {
      "name": "Capitulo11.ipynb",
      "provenance": []
    },
    "hide_code_all_hidden": false,
    "kernelspec": {
      "display_name": "Python 3",
      "language": "python",
      "name": "python3"
    },
    "language_info": {
      "codemirror_mode": {
        "name": "ipython",
        "version": 3
      },
      "file_extension": ".py",
      "mimetype": "text/x-python",
      "name": "python",
      "nbconvert_exporter": "python",
      "pygments_lexer": "ipython3",
      "version": "3.7.4"
    },
    "accelerator": "GPU"
  },
  "cells": [
    {
      "cell_type": "markdown",
      "metadata": {
        "id": "7ghlHAH0Nlhi"
      },
      "source": [
        "\n",
        "# Capítulo 11\n"
      ]
    },
    {
      "cell_type": "markdown",
      "metadata": {
        "id": "1F1MURpvDQ7Z"
      },
      "source": [
        "Installing ray package and uninstall pyarrow: We must **restart the runtime**"
      ]
    },
    {
      "cell_type": "code",
      "metadata": {
        "id": "tHNPcnXPNlhj",
        "colab": {
          "base_uri": "https://localhost:8080/",
          "height": 32
        },
        "outputId": "83cb4543-1ec7-4ac8-a0d0-788123ebfc92"
      },
      "source": [
        "#Installing all the dependences\n",
        "!pip uninstall -y pyarrow  > /dev/null\n",
        "#!pip install ray[debug]==0.7.5  > /dev/null 2>&1\n",
        "! pip install -U ray[rllib] &> /dev/null\n",
        "!pip install bs4  > /dev/null 2>&1\n",
        "\n",
        "import os\n",
        "os._exit(0)"
      ],
      "execution_count": null,
      "outputs": [
        {
          "output_type": "stream",
          "text": [
            "\u001b[33mWARNING: Skipping pyarrow as it is not installed.\u001b[0m\n"
          ],
          "name": "stdout"
        }
      ]
    },
    {
      "cell_type": "markdown",
      "metadata": {
        "id": "Mfc70JI95JK7"
      },
      "source": [
        "\n",
        "Import packages"
      ]
    },
    {
      "cell_type": "code",
      "metadata": {
        "id": "a9Kwo5ZfNlhn",
        "colab": {
          "base_uri": "https://localhost:8080/",
          "height": 85
        },
        "outputId": "f78dce16-d50a-4161-8a79-5d385893d966"
      },
      "source": [
        "import gym\n",
        "import numpy as np\n",
        "from matplotlib import pyplot as plt\n",
        "\n",
        "env = gym.make('CartPole-v0')\n",
        "\n",
        "import gym\n",
        "import ray\n",
        "\n",
        "from ray.rllib.agents.ppo import PPOTrainer, DEFAULT_CONFIG"
      ],
      "execution_count": null,
      "outputs": [
        {
          "output_type": "stream",
          "text": [
            "WARNING:tensorflow:From /usr/local/lib/python3.6/dist-packages/tensorflow/python/compat/v2_compat.py:96: disable_resource_variables (from tensorflow.python.ops.variable_scope) is deprecated and will be removed in a future version.\n",
            "Instructions for updating:\n",
            "non-resource variables are not supported in the long term\n"
          ],
          "name": "stdout"
        }
      ]
    },
    {
      "cell_type": "code",
      "metadata": {
        "id": "P2VTWuLpItqw",
        "colab": {
          "base_uri": "https://localhost:8080/",
          "height": 32
        },
        "outputId": "b6d620d1-4936-419e-ade2-2dc07ac395f8"
      },
      "source": [
        "# Configuration image rendering in colab\n",
        "\n",
        "# Taken from https://towardsdatascience.com/rendering-openai-gym-envs-on-binder-and-google-colab-536f99391cc7\n",
        "\n",
        "!apt-get install -y xvfb x11-utils &> /dev/null\n",
        "!pip install pyvirtualdisplay==0.2.*  PyOpenGL==3.1.* PyOpenGL-accelerate==3.1.* &> /dev/null\n",
        "!pip install gym[box2d]==0.17.* &> /dev/null\n",
        "\n",
        "# Taken from https://github.com/actions/virtual-environments/issues/214\n",
        "!sudo apt-get update  &> /dev/null \n",
        "!sudo apt-get install xvfb --fix-missing &> /dev/null\n",
        "\n",
        "import pyvirtualdisplay\n",
        "\n",
        "_display = pyvirtualdisplay.Display(visible=False, size=(1400, 900))\n",
        "_ = _display.start()\n",
        "\n",
        "!echo $DISPLAY # sanity checking: should be set to some value (e.g. 1005)\n",
        "\n",
        "from IPython import display"
      ],
      "execution_count": null,
      "outputs": [
        {
          "output_type": "stream",
          "text": [
            ":1007\n"
          ],
          "name": "stdout"
        }
      ]
    },
    {
      "cell_type": "markdown",
      "metadata": {
        "id": "C8XsB_qEDnMo"
      },
      "source": [
        "Start up Ray"
      ]
    },
    {
      "cell_type": "code",
      "metadata": {
        "id": "tQFzEX2BNlh3",
        "colab": {
          "base_uri": "https://localhost:8080/",
          "height": 184
        },
        "outputId": "ed48a21c-97ae-4f84-eaaa-f1bdef65248b"
      },
      "source": [
        "ray.init()"
      ],
      "execution_count": null,
      "outputs": [
        {
          "output_type": "stream",
          "text": [
            "2020-09-27 14:20:13,116\tINFO resource_spec.py:231 -- Starting Ray with 7.13 GiB memory available for workers and up to 3.59 GiB for objects. You can adjust these settings with ray.init(memory=<bytes>, object_store_memory=<bytes>).\n",
            "2020-09-27 14:20:13,676\tINFO services.py:1193 -- View the Ray dashboard at \u001b[1m\u001b[32mlocalhost:8265\u001b[39m\u001b[22m\n"
          ],
          "name": "stderr"
        },
        {
          "output_type": "execute_result",
          "data": {
            "text/plain": [
              "{'node_ip_address': '172.28.0.2',\n",
              " 'object_store_address': '/tmp/ray/session_2020-09-27_14-20-13_113598_2383/sockets/plasma_store',\n",
              " 'raylet_ip_address': '172.28.0.2',\n",
              " 'raylet_socket_name': '/tmp/ray/session_2020-09-27_14-20-13_113598_2383/sockets/raylet',\n",
              " 'redis_address': '172.28.0.2:6379',\n",
              " 'session_dir': '/tmp/ray/session_2020-09-27_14-20-13_113598_2383',\n",
              " 'webui_url': 'localhost:8265'}"
            ]
          },
          "metadata": {
            "tags": []
          },
          "execution_count": 3
        }
      ]
    },
    {
      "cell_type": "markdown",
      "metadata": {
        "id": "f9yhpJZVNlh5"
      },
      "source": [
        "\n",
        "Instantiate a `PPOTrainer` object"
      ]
    },
    {
      "cell_type": "code",
      "metadata": {
        "id": "Ok210MCfNlh5",
        "colab": {
          "base_uri": "https://localhost:8080/",
          "height": 596
        },
        "outputId": "d8ceb0a5-9ae5-4405-cf10-6f2cea094f18"
      },
      "source": [
        "config = DEFAULT_CONFIG.copy()\n",
        "config[\"num_gpus\"] = 1 # in order to use the GPU\n",
        "\n",
        "agent = PPOTrainer(config, 'CartPole-v0')"
      ],
      "execution_count": null,
      "outputs": [
        {
          "output_type": "stream",
          "text": [
            "2020-09-27 14:20:17,229\tINFO trainer.py:605 -- Tip: set framework=tfe or the --eager flag to enable TensorFlow eager execution\n",
            "2020-09-27 14:20:17,235\tINFO trainer.py:632 -- Current log_level is WARN. For more information, set 'log_level': 'INFO' / 'DEBUG' or use the -v and -vv flags.\n",
            "2020-09-27 14:20:17,363\tWARNING worker.py:1134 -- The dashboard on node ae61824d078c failed with the following error:\n",
            "Traceback (most recent call last):\n",
            "  File \"/usr/lib/python3.6/asyncio/base_events.py\", line 1062, in create_server\n",
            "    sock.bind(sa)\n",
            "OSError: [Errno 99] Cannot assign requested address\n",
            "\n",
            "During handling of the above exception, another exception occurred:\n",
            "\n",
            "Traceback (most recent call last):\n",
            "  File \"/usr/local/lib/python3.6/dist-packages/ray/dashboard/dashboard.py\", line 961, in <module>\n",
            "    dashboard.run()\n",
            "  File \"/usr/local/lib/python3.6/dist-packages/ray/dashboard/dashboard.py\", line 576, in run\n",
            "    aiohttp.web.run_app(self.app, host=self.host, port=self.port)\n",
            "  File \"/usr/local/lib/python3.6/dist-packages/aiohttp/web.py\", line 433, in run_app\n",
            "    reuse_port=reuse_port))\n",
            "  File \"/usr/lib/python3.6/asyncio/base_events.py\", line 484, in run_until_complete\n",
            "    return future.result()\n",
            "  File \"/usr/local/lib/python3.6/dist-packages/aiohttp/web.py\", line 359, in _run_app\n",
            "    await site.start()\n",
            "  File \"/usr/local/lib/python3.6/dist-packages/aiohttp/web_runner.py\", line 104, in start\n",
            "    reuse_port=self._reuse_port)\n",
            "  File \"/usr/lib/python3.6/asyncio/base_events.py\", line 1066, in create_server\n",
            "    % (sa, err.strerror.lower()))\n",
            "OSError: [Errno 99] error while attempting to bind on address ('::1', 8265, 0, 0): cannot assign requested address\n",
            "\n",
            "\u001b[2m\u001b[36m(pid=3158)\u001b[0m WARNING:tensorflow:From /usr/local/lib/python3.6/dist-packages/tensorflow/python/compat/v2_compat.py:96: disable_resource_variables (from tensorflow.python.ops.variable_scope) is deprecated and will be removed in a future version.\n",
            "\u001b[2m\u001b[36m(pid=3158)\u001b[0m Instructions for updating:\n",
            "\u001b[2m\u001b[36m(pid=3158)\u001b[0m non-resource variables are not supported in the long term\n",
            "\u001b[2m\u001b[36m(pid=3159)\u001b[0m WARNING:tensorflow:From /usr/local/lib/python3.6/dist-packages/tensorflow/python/compat/v2_compat.py:96: disable_resource_variables (from tensorflow.python.ops.variable_scope) is deprecated and will be removed in a future version.\n",
            "\u001b[2m\u001b[36m(pid=3159)\u001b[0m Instructions for updating:\n",
            "\u001b[2m\u001b[36m(pid=3159)\u001b[0m non-resource variables are not supported in the long term\n",
            "2020-09-27 14:20:25,020\tWARNING util.py:37 -- Install gputil for GPU system monitoring.\n"
          ],
          "name": "stderr"
        }
      ]
    },
    {
      "cell_type": "code",
      "metadata": {
        "id": "-qHoH5knw6Uk",
        "colab": {
          "base_uri": "https://localhost:8080/",
          "height": 52
        },
        "outputId": "943417ce-9fee-4324-9370-661fb6c5e5bd"
      },
      "source": [
        "print(DEFAULT_CONFIG)"
      ],
      "execution_count": null,
      "outputs": [
        {
          "output_type": "stream",
          "text": [
            "{'num_workers': 2, 'num_envs_per_worker': 1, 'rollout_fragment_length': 200, 'sample_batch_size': -1, 'batch_mode': 'truncate_episodes', 'num_gpus': 0, 'train_batch_size': 4000, 'model': {'conv_filters': None, 'conv_activation': 'relu', 'fcnet_activation': 'tanh', 'fcnet_hiddens': [256, 256], 'free_log_std': False, 'no_final_linear': False, 'vf_share_layers': True, 'use_lstm': False, 'max_seq_len': 20, 'lstm_cell_size': 256, 'lstm_use_prev_action_reward': False, 'state_shape': None, 'framestack': True, 'dim': 84, 'grayscale': False, 'zero_mean': True, 'custom_model': None, 'custom_model_config': {}, 'custom_action_dist': None, 'custom_preprocessor': None, 'custom_options': -1}, 'optimizer': {}, 'gamma': 0.99, 'horizon': None, 'soft_horizon': False, 'no_done_at_end': False, 'env_config': {}, 'env': None, 'normalize_actions': False, 'clip_rewards': None, 'clip_actions': True, 'preprocessor_pref': 'deepmind', 'lr': 5e-05, 'monitor': False, 'log_level': 'WARN', 'callbacks': <class 'ray.rllib.agents.callbacks.DefaultCallbacks'>, 'ignore_worker_failures': False, 'log_sys_usage': True, 'fake_sampler': False, 'framework': 'tf', 'eager_tracing': False, 'no_eager_on_workers': False, 'explore': True, 'exploration_config': {'type': 'StochasticSampling'}, 'evaluation_interval': None, 'evaluation_num_episodes': 10, 'in_evaluation': False, 'evaluation_config': {}, 'evaluation_num_workers': 0, 'custom_eval_function': None, 'sample_async': False, '_use_trajectory_view_api': False, 'observation_filter': 'NoFilter', 'synchronize_filters': True, 'tf_session_args': {'intra_op_parallelism_threads': 2, 'inter_op_parallelism_threads': 2, 'gpu_options': {'allow_growth': True}, 'log_device_placement': False, 'device_count': {'CPU': 1}, 'allow_soft_placement': True}, 'local_tf_session_args': {'intra_op_parallelism_threads': 8, 'inter_op_parallelism_threads': 8}, 'compress_observations': False, 'collect_metrics_timeout': 180, 'metrics_smoothing_episodes': 100, 'remote_worker_envs': False, 'remote_env_batch_wait_ms': 0, 'min_iter_time_s': 0, 'timesteps_per_iteration': 0, 'seed': None, 'extra_python_environs_for_driver': {}, 'extra_python_environs_for_worker': {}, 'num_cpus_per_worker': 1, 'num_gpus_per_worker': 0, 'custom_resources_per_worker': {}, 'num_cpus_for_driver': 1, 'memory': 0, 'object_store_memory': 0, 'memory_per_worker': 0, 'object_store_memory_per_worker': 0, 'input': 'sampler', 'input_evaluation': ['is', 'wis'], 'postprocess_inputs': False, 'shuffle_buffer_size': 0, 'output': None, 'output_compress_columns': ['obs', 'new_obs'], 'output_max_file_size': 67108864, 'multiagent': {'policies': {}, 'policy_mapping_fn': None, 'policies_to_train': None, 'observation_fn': None, 'replay_mode': 'independent'}, 'replay_sequence_length': 1, 'use_pytorch': -1, 'eager': -1, 'use_critic': True, 'use_gae': True, 'lambda': 1.0, 'kl_coeff': 0.2, 'sgd_minibatch_size': 128, 'shuffle_sequences': True, 'num_sgd_iter': 30, 'lr_schedule': None, 'vf_share_layers': False, 'vf_loss_coeff': 1.0, 'entropy_coeff': 0.0, 'entropy_coeff_schedule': None, 'clip_param': 0.3, 'vf_clip_param': 10.0, 'grad_clip': None, 'kl_target': 0.01, 'simple_optimizer': False, '_fake_gpus': False}\n"
          ],
          "name": "stdout"
        }
      ]
    },
    {
      "cell_type": "markdown",
      "metadata": {
        "id": "qeyYiHJY8yIj"
      },
      "source": [
        "Watch Agent before training using `compute_action()`"
      ]
    },
    {
      "cell_type": "code",
      "metadata": {
        "id": "4wH9rJkP8xB3",
        "colab": {
          "base_uri": "https://localhost:8080/",
          "height": 263
        },
        "outputId": "24897f62-e7a6-4e69-d43e-b26e8cd884ee"
      },
      "source": [
        "def watch_agent(env):\n",
        "  state = env.reset()\n",
        "  rewards = []\n",
        "  img = plt.imshow(env.render(mode='rgb_array'))\n",
        "  for t in range(2000):\n",
        "    action=agent.compute_action(state)\n",
        "\n",
        "    img.set_data(env.render(mode='rgb_array')) \n",
        "    plt.axis('off')\n",
        "    display.display(plt.gcf())\n",
        "    display.clear_output(wait=True)\n",
        "\n",
        "    state, reward, done, _ = env.step(action)\n",
        "    rewards.append(reward)\n",
        "    if done:\n",
        "        print(\"Reward:\", sum([r for r in rewards]))\n",
        "        break \n",
        "  env.close()\n",
        "\n",
        "watch_agent(env)\n",
        "watch_agent(env)"
      ],
      "execution_count": null,
      "outputs": [
        {
          "output_type": "stream",
          "text": [
            "Reward: 17.0\n"
          ],
          "name": "stdout"
        },
        {
          "output_type": "display_data",
          "data": {
            "image/png": "[encoded data removed]",
            "text/plain": [
              "<Figure size 432x288 with 1 Axes>"
            ]
          },
          "metadata": {
            "tags": [],
            "needs_background": "light"
          }
        }
      ]
    },
    {
      "cell_type": "markdown",
      "metadata": {
        "id": "HN9nVl-7D3Ys"
      },
      "source": [
        "Train"
      ]
    },
    {
      "cell_type": "code",
      "metadata": {
        "id": "-mbhigVYpYiA",
        "colab": {
          "base_uri": "https://localhost:8080/",
          "height": 349
        },
        "outputId": "8582de5b-e55a-4535-8f59-86f0dd652b99"
      },
      "source": [
        "for i in range(10):\n",
        "  result = agent.train()\n",
        "  print(f'Mean reward: {result[\"episode_reward_mean\"]:4.1f}')"
      ],
      "execution_count": null,
      "outputs": [
        {
          "output_type": "stream",
          "text": [
            "WARNING:tensorflow:From /usr/local/lib/python3.6/dist-packages/ray/rllib/policy/tf_policy.py:871: Variable.load (from tensorflow.python.ops.variables) is deprecated and will be removed in a future version.\n",
            "Instructions for updating:\n",
            "Prefer Variable.assign which has equivalent behavior in 2.X.\n",
            "Mean reward: 23.1\n"
          ],
          "name": "stdout"
        },
        {
          "output_type": "stream",
          "text": [
            "\u001b[2m\u001b[36m(pid=3158)\u001b[0m WARNING:tensorflow:From /usr/local/lib/python3.6/dist-packages/ray/rllib/policy/tf_policy.py:871: Variable.load (from tensorflow.python.ops.variables) is deprecated and will be removed in a future version.\n",
            "\u001b[2m\u001b[36m(pid=3158)\u001b[0m Instructions for updating:\n",
            "\u001b[2m\u001b[36m(pid=3158)\u001b[0m Prefer Variable.assign which has equivalent behavior in 2.X.\n",
            "\u001b[2m\u001b[36m(pid=3159)\u001b[0m WARNING:tensorflow:From /usr/local/lib/python3.6/dist-packages/ray/rllib/policy/tf_policy.py:871: Variable.load (from tensorflow.python.ops.variables) is deprecated and will be removed in a future version.\n",
            "\u001b[2m\u001b[36m(pid=3159)\u001b[0m Instructions for updating:\n",
            "\u001b[2m\u001b[36m(pid=3159)\u001b[0m Prefer Variable.assign which has equivalent behavior in 2.X.\n"
          ],
          "name": "stderr"
        },
        {
          "output_type": "stream",
          "text": [
            "Mean reward: 40.5\n",
            "Mean reward: 66.7\n",
            "Mean reward: 95.9\n",
            "Mean reward: 126.2\n",
            "Mean reward: 157.3\n",
            "Mean reward: 171.9\n",
            "Mean reward: 188.7\n",
            "Mean reward: 192.7\n",
            "Mean reward: 197.7\n"
          ],
          "name": "stdout"
        }
      ]
    },
    {
      "cell_type": "code",
      "metadata": {
        "id": "HenGbKl4Lo4x",
        "colab": {
          "base_uri": "https://localhost:8080/",
          "height": 263
        },
        "outputId": "5e58fa0a-5e66-44b5-cd05-3e7231539a75"
      },
      "source": [
        "watch_agent(env)"
      ],
      "execution_count": null,
      "outputs": [
        {
          "output_type": "stream",
          "text": [
            "Reward: 200.0\n"
          ],
          "name": "stdout"
        },
        {
          "output_type": "display_data",
          "data": {
            "image/png": "[encoded data removed]",
            "text/plain": [
              "<Figure size 432x288 with 1 Axes>"
            ]
          },
          "metadata": {
            "tags": [],
            "needs_background": "light"
          }
        }
      ]
    }
  ]
}